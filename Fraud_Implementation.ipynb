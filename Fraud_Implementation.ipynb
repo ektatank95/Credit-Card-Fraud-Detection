{
  "nbformat": 4,
  "nbformat_minor": 0,
  "metadata": {
    "colab": {
      "name": "Fraud Implementation",
      "provenance": [],
      "authorship_tag": "ABX9TyNvtSLFTZt97TmrcCvTY2ET",
      "include_colab_link": true
    },
    "kernelspec": {
      "name": "python3",
      "display_name": "Python 3"
    }
  },
  "cells": [
    {
      "cell_type": "markdown",
      "metadata": {
        "id": "view-in-github",
        "colab_type": "text"
      },
      "source": [
        "<a href=\"https://colab.research.google.com/github/ektatank95/Credit-Card-Fraud-Detection/blob/master/Fraud_Implementation.ipynb\" target=\"_parent\"><img src=\"https://colab.research.google.com/assets/colab-badge.svg\" alt=\"Open In Colab\"/></a>"
      ]
    },
    {
      "cell_type": "code",
      "metadata": {
        "colab": {
          "base_uri": "https://localhost:8080/"
        },
        "id": "od16pXYfbsep",
        "outputId": "8cc6aa48-1b84-45ae-c255-1c6c945cf0f5"
      },
      "source": [
        "from google.colab import drive\r\n",
        "drive.mount('/content/drive')"
      ],
      "execution_count": 3,
      "outputs": [
        {
          "output_type": "stream",
          "text": [
            "Mounted at /content/drive\n"
          ],
          "name": "stdout"
        }
      ]
    },
    {
      "cell_type": "code",
      "metadata": {
        "id": "OjPmZ7FHNnxm"
      },
      "source": [
        "import pandas as pd # data processing\r\n",
        "import numpy as np # working with arrays\r\n",
        "import matplotlib.pyplot as plt # visualization\r\n",
        "from termcolor import colored as cl # text customization\r\n",
        "import itertools # advanced tools"
      ],
      "execution_count": 4,
      "outputs": []
    },
    {
      "cell_type": "code",
      "metadata": {
        "id": "yyFNHIPBcDGX"
      },
      "source": [
        "path = '/content/drive/MyDrive/daiict/thesis/dataset/creditcard.csv'\r\n",
        "data=pd.read_csv(path);"
      ],
      "execution_count": 5,
      "outputs": []
    },
    {
      "cell_type": "code",
      "metadata": {
        "colab": {
          "base_uri": "https://localhost:8080/"
        },
        "id": "sGGY7kTBP2k5",
        "outputId": "7fb2878c-3f66-406c-9ef7-bfd2d2c4b2a9"
      },
      "source": [
        "print(data.info())\r\n",
        "print(data.head())\r\n",
        "print(data.describe())"
      ],
      "execution_count": 6,
      "outputs": [
        {
          "output_type": "stream",
          "text": [
            "<class 'pandas.core.frame.DataFrame'>\n",
            "RangeIndex: 284807 entries, 0 to 284806\n",
            "Data columns (total 31 columns):\n",
            " #   Column  Non-Null Count   Dtype  \n",
            "---  ------  --------------   -----  \n",
            " 0   Time    284807 non-null  float64\n",
            " 1   V1      284807 non-null  float64\n",
            " 2   V2      284807 non-null  float64\n",
            " 3   V3      284807 non-null  float64\n",
            " 4   V4      284807 non-null  float64\n",
            " 5   V5      284807 non-null  float64\n",
            " 6   V6      284807 non-null  float64\n",
            " 7   V7      284807 non-null  float64\n",
            " 8   V8      284807 non-null  float64\n",
            " 9   V9      284807 non-null  float64\n",
            " 10  V10     284807 non-null  float64\n",
            " 11  V11     284807 non-null  float64\n",
            " 12  V12     284807 non-null  float64\n",
            " 13  V13     284807 non-null  float64\n",
            " 14  V14     284807 non-null  float64\n",
            " 15  V15     284807 non-null  float64\n",
            " 16  V16     284807 non-null  float64\n",
            " 17  V17     284807 non-null  float64\n",
            " 18  V18     284807 non-null  float64\n",
            " 19  V19     284807 non-null  float64\n",
            " 20  V20     284807 non-null  float64\n",
            " 21  V21     284807 non-null  float64\n",
            " 22  V22     284807 non-null  float64\n",
            " 23  V23     284807 non-null  float64\n",
            " 24  V24     284807 non-null  float64\n",
            " 25  V25     284807 non-null  float64\n",
            " 26  V26     284807 non-null  float64\n",
            " 27  V27     284807 non-null  float64\n",
            " 28  V28     284807 non-null  float64\n",
            " 29  Amount  284807 non-null  float64\n",
            " 30  Class   284807 non-null  int64  \n",
            "dtypes: float64(30), int64(1)\n",
            "memory usage: 67.4 MB\n",
            "None\n",
            "   Time        V1        V2        V3  ...       V27       V28  Amount  Class\n",
            "0   0.0 -1.359807 -0.072781  2.536347  ...  0.133558 -0.021053  149.62      0\n",
            "1   0.0  1.191857  0.266151  0.166480  ... -0.008983  0.014724    2.69      0\n",
            "2   1.0 -1.358354 -1.340163  1.773209  ... -0.055353 -0.059752  378.66      0\n",
            "3   1.0 -0.966272 -0.185226  1.792993  ...  0.062723  0.061458  123.50      0\n",
            "4   2.0 -1.158233  0.877737  1.548718  ...  0.219422  0.215153   69.99      0\n",
            "\n",
            "[5 rows x 31 columns]\n",
            "                Time            V1  ...         Amount          Class\n",
            "count  284807.000000  2.848070e+05  ...  284807.000000  284807.000000\n",
            "mean    94813.859575  3.919560e-15  ...      88.349619       0.001727\n",
            "std     47488.145955  1.958696e+00  ...     250.120109       0.041527\n",
            "min         0.000000 -5.640751e+01  ...       0.000000       0.000000\n",
            "25%     54201.500000 -9.203734e-01  ...       5.600000       0.000000\n",
            "50%     84692.000000  1.810880e-02  ...      22.000000       0.000000\n",
            "75%    139320.500000  1.315642e+00  ...      77.165000       0.000000\n",
            "max    172792.000000  2.454930e+00  ...   25691.160000       1.000000\n",
            "\n",
            "[8 rows x 31 columns]\n"
          ],
          "name": "stdout"
        }
      ]
    },
    {
      "cell_type": "code",
      "metadata": {
        "colab": {
          "base_uri": "https://localhost:8080/"
        },
        "id": "xh3FxeofkiL1",
        "outputId": "4072e1aa-0cb5-45f5-ecb3-4c07def664d2"
      },
      "source": [
        "\r\n",
        "cases = len(data)\r\n",
        "nonfraud_count = len(data[data.Class == 0])\r\n",
        "fraud_count = len(data[data.Class == 1])\r\n",
        "fraud_percentage = round(fraud_count/nonfraud_count*100, 2)\r\n",
        "\r\n",
        "print(cl('CASE COUNT', attrs = ['bold']))\r\n",
        "print(cl('--------------------------------------------', attrs = ['bold']))\r\n",
        "print(cl('Total number of cases are {}'.format(cases), attrs = ['bold']))\r\n",
        "print(cl('Number of Non-fraud cases are {}'.format(nonfraud_count), attrs = ['bold']))\r\n",
        "print(cl('Number of Non-fraud cases are {}'.format(fraud_count), attrs = ['bold']))\r\n",
        "print(cl('Percentage of fraud cases is {}'.format(fraud_percentage), attrs = ['bold']))\r\n",
        "print(cl('--------------------------------------------', attrs = ['bold']))\r\n"
      ],
      "execution_count": 7,
      "outputs": [
        {
          "output_type": "stream",
          "text": [
            "\u001b[1mCASE COUNT\u001b[0m\n",
            "\u001b[1m--------------------------------------------\u001b[0m\n",
            "\u001b[1mTotal number of cases are 284807\u001b[0m\n",
            "\u001b[1mNumber of Non-fraud cases are 284315\u001b[0m\n",
            "\u001b[1mNumber of Non-fraud cases are 492\u001b[0m\n",
            "\u001b[1mPercentage of fraud cases is 0.17\u001b[0m\n",
            "\u001b[1m--------------------------------------------\u001b[0m\n"
          ],
          "name": "stdout"
        }
      ]
    },
    {
      "cell_type": "code",
      "metadata": {
        "colab": {
          "base_uri": "https://localhost:8080/"
        },
        "id": "5nETyMXJkxP_",
        "outputId": "81c732af-78e0-4a67-98f9-56edde275437"
      },
      "source": [
        "nonfraud_cases = data[data.Class == 0]\r\n",
        "fraud_cases = data[data.Class == 1]\r\n",
        "\r\n",
        "print(cl('CASE AMOUNT STATISTICS', attrs = ['bold']))\r\n",
        "print(cl('--------------------------------------------', attrs = ['bold']))\r\n",
        "print(cl('NON-FRAUD CASE AMOUNT STATS', attrs = ['bold']))\r\n",
        "print(nonfraud_cases.Amount.describe())\r\n",
        "print(cl('--------------------------------------------', attrs = ['bold']))\r\n",
        "print(cl('FRAUD CASE AMOUNT STATS', attrs = ['bold']))\r\n",
        "print(fraud_cases.Amount.describe())\r\n",
        "print(cl('--------------------------------------------', attrs = ['bold']))"
      ],
      "execution_count": 8,
      "outputs": [
        {
          "output_type": "stream",
          "text": [
            "\u001b[1mCASE AMOUNT STATISTICS\u001b[0m\n",
            "\u001b[1m--------------------------------------------\u001b[0m\n",
            "\u001b[1mNON-FRAUD CASE AMOUNT STATS\u001b[0m\n",
            "count    284315.000000\n",
            "mean         88.291022\n",
            "std         250.105092\n",
            "min           0.000000\n",
            "25%           5.650000\n",
            "50%          22.000000\n",
            "75%          77.050000\n",
            "max       25691.160000\n",
            "Name: Amount, dtype: float64\n",
            "\u001b[1m--------------------------------------------\u001b[0m\n",
            "\u001b[1mFRAUD CASE AMOUNT STATS\u001b[0m\n",
            "count     492.000000\n",
            "mean      122.211321\n",
            "std       256.683288\n",
            "min         0.000000\n",
            "25%         1.000000\n",
            "50%         9.250000\n",
            "75%       105.890000\n",
            "max      2125.870000\n",
            "Name: Amount, dtype: float64\n",
            "\u001b[1m--------------------------------------------\u001b[0m\n"
          ],
          "name": "stdout"
        }
      ]
    },
    {
      "cell_type": "code",
      "metadata": {
        "colab": {
          "base_uri": "https://localhost:8080/"
        },
        "id": "VW51vH8elDjs",
        "outputId": "7877cf7a-0402-41e1-c289-9894d9793fe3"
      },
      "source": [
        "from sklearn.preprocessing import StandardScaler\r\n",
        "sc = StandardScaler()\r\n",
        "amount = data['Amount'].values\r\n",
        "\r\n",
        "data['Amount'] = sc.fit_transform(amount.reshape(-1, 1))\r\n",
        "\r\n",
        "print(cl(data['Amount'].head(10), attrs = ['bold']))"
      ],
      "execution_count": 9,
      "outputs": [
        {
          "output_type": "stream",
          "text": [
            "\u001b[1m0    0.244964\n",
            "1   -0.342475\n",
            "2    1.160686\n",
            "3    0.140534\n",
            "4   -0.073403\n",
            "5   -0.338556\n",
            "6   -0.333279\n",
            "7   -0.190107\n",
            "8    0.019392\n",
            "9   -0.338516\n",
            "Name: Amount, dtype: float64\u001b[0m\n"
          ],
          "name": "stdout"
        }
      ]
    },
    {
      "cell_type": "code",
      "metadata": {
        "colab": {
          "base_uri": "https://localhost:8080/"
        },
        "id": "b6sugFFWldLg",
        "outputId": "38584a89-cad0-49bf-b489-819cabc42165"
      },
      "source": [
        "nonfraud_cases = data[data.Class == 0]\r\n",
        "fraud_cases = data[data.Class == 1]\r\n",
        "\r\n",
        "print(cl('CASE AMOUNT STATISTICS', attrs = ['bold']))\r\n",
        "print(cl('--------------------------------------------', attrs = ['bold']))\r\n",
        "print(cl('NON-FRAUD CASE AMOUNT STATS', attrs = ['bold']))\r\n",
        "print(nonfraud_cases.Amount.describe())\r\n",
        "print(cl('--------------------------------------------', attrs = ['bold']))\r\n",
        "print(cl('FRAUD CASE AMOUNT STATS', attrs = ['bold']))\r\n",
        "print(fraud_cases.Amount.describe())\r\n",
        "print(cl('--------------------------------------------', attrs = ['bold']))"
      ],
      "execution_count": 10,
      "outputs": [
        {
          "output_type": "stream",
          "text": [
            "\u001b[1mCASE AMOUNT STATISTICS\u001b[0m\n",
            "\u001b[1m--------------------------------------------\u001b[0m\n",
            "\u001b[1mNON-FRAUD CASE AMOUNT STATS\u001b[0m\n",
            "count    284315.000000\n",
            "mean         -0.000234\n",
            "std           0.999942\n",
            "min          -0.353229\n",
            "25%          -0.330640\n",
            "50%          -0.265271\n",
            "75%          -0.045177\n",
            "max         102.362243\n",
            "Name: Amount, dtype: float64\n",
            "\u001b[1m--------------------------------------------\u001b[0m\n",
            "\u001b[1mFRAUD CASE AMOUNT STATS\u001b[0m\n",
            "count    492.000000\n",
            "mean       0.135382\n",
            "std        1.026242\n",
            "min       -0.353229\n",
            "25%       -0.349231\n",
            "50%       -0.316247\n",
            "75%        0.070128\n",
            "max        8.146182\n",
            "Name: Amount, dtype: float64\n",
            "\u001b[1m--------------------------------------------\u001b[0m\n"
          ],
          "name": "stdout"
        }
      ]
    },
    {
      "cell_type": "code",
      "metadata": {
        "colab": {
          "base_uri": "https://localhost:8080/"
        },
        "id": "ug0aXai8lrDy",
        "outputId": "28648916-bcf2-4c63-e178-2b8e9ea0c564"
      },
      "source": [
        "# DATA SPLIT\r\n",
        "from sklearn.model_selection import train_test_split\r\n",
        "\r\n",
        "X = data.drop('Class', axis = 1).values\r\n",
        "y = data['Class'].values\r\n",
        "X_train, X_test, y_train, y_test = train_test_split(X, y, test_size = 0.2, random_state = 0)\r\n",
        "\r\n",
        "print(cl('X_train samples : ', attrs = ['bold']), X_train[:1])\r\n",
        "print(cl('X_test samples : ', attrs = ['bold']), X_test[0:1])\r\n",
        "print(cl('y_train samples : ', attrs = ['bold']), y_train[0:20])\r\n",
        "print(cl('y_test samples : ', attrs = ['bold']), y_test[0:20])"
      ],
      "execution_count": 11,
      "outputs": [
        {
          "output_type": "stream",
          "text": [
            "\u001b[1mX_train samples : \u001b[0m [[ 5.31500000e+04 -1.11504743e+00  1.03558276e+00  8.00712441e-01\n",
            "  -1.06039825e+00  3.26211690e-02  8.53422160e-01 -6.14243480e-01\n",
            "  -3.23116112e+00  1.53994798e+00 -8.16908791e-01 -1.30559201e+00\n",
            "   1.08177199e-01 -8.59609580e-01 -7.19342108e-02  9.06655628e-01\n",
            "  -1.72092961e+00  7.97853221e-01 -6.75939779e-03  1.95677806e+00\n",
            "  -6.44895565e-01  3.02038533e+00 -5.39617976e-01  3.31564886e-02\n",
            "  -7.74945766e-01  1.05867812e-01 -4.30853482e-01  2.29736936e-01\n",
            "  -7.05913036e-02 -3.01454177e-01]]\n",
            "\u001b[1mX_test samples : \u001b[0m [[ 1.25821000e+05 -3.23333572e-01  1.05745525e+00 -4.83411518e-02\n",
            "  -6.07204308e-01  1.25982115e+00 -9.17607168e-02  1.15910150e+00\n",
            "  -1.24334606e-01 -1.74639536e-01 -1.64440065e+00 -1.11886302e+00\n",
            "   2.02647310e-01  1.14596495e+00 -1.80235956e+00 -2.47177932e-01\n",
            "  -6.09453515e-02  8.46605738e-01  3.79454387e-01  8.47262245e-01\n",
            "   1.86409421e-01 -2.07098267e-01 -4.33890272e-01 -2.61613283e-01\n",
            "  -4.66506063e-02  2.11512300e-01  8.29721214e-03  1.08494430e-01\n",
            "   1.61139167e-01 -1.93305945e-01]]\n",
            "\u001b[1my_train samples : \u001b[0m [0 0 0 0 0 0 0 0 0 0 0 0 0 0 0 0 0 0 0 0]\n",
            "\u001b[1my_test samples : \u001b[0m [0 0 0 0 0 0 0 0 0 0 0 0 0 0 0 0 0 0 0 0]\n"
          ],
          "name": "stdout"
        }
      ]
    },
    {
      "cell_type": "code",
      "metadata": {
        "id": "ck9cvN5gmIbi"
      },
      "source": [
        "# MODELING\r\n",
        "from sklearn.tree import DecisionTreeClassifier # Decision tree algorithm\r\n",
        "from sklearn.svm import SVC # SVM algorithm\r\n",
        "from sklearn.ensemble import RandomForestClassifier # Random forest tree algorithm\r\n",
        "\r\n",
        "# 1. Decision Tree\r\n",
        "\r\n",
        "tree_model = DecisionTreeClassifier(max_depth = 4, criterion = 'entropy')\r\n",
        "tree_model.fit(X_train, y_train)\r\n",
        "tree_yhat = tree_model.predict(X_test)\r\n",
        "\r\n",
        "# 2. SVM \r\n",
        "\r\n",
        "svm = SVC()\r\n",
        "svm.fit(X_train, y_train)\r\n",
        "svm_yhat = svm.predict(X_test)\r\n",
        "\r\n",
        "# 3. Random Forest Tree\r\n",
        "\r\n",
        "rf = RandomForestClassifier(max_depth = 4)\r\n",
        "rf.fit(X_train, y_train)\r\n",
        "rf_yhat = rf.predict(X_test)\r\n"
      ],
      "execution_count": 12,
      "outputs": []
    },
    {
      "cell_type": "code",
      "metadata": {
        "id": "JNYDkZYiYrfK"
      },
      "source": [
        ""
      ],
      "execution_count": null,
      "outputs": []
    },
    {
      "cell_type": "code",
      "metadata": {
        "colab": {
          "base_uri": "https://localhost:8080/"
        },
        "id": "DmajUf0CRjbb",
        "outputId": "9e519e95-87a1-408d-ee3e-cda1e8a3bc1f"
      },
      "source": [
        "#print(X_train.shape())\r\n",
        "print(type(X_train))\r\n",
        "#X_train.ndim\r\n",
        "num_rows, num_cols = X_test.shape\r\n",
        "print (num_rows, num_cols)\r\n",
        "#print(X_train)"
      ],
      "execution_count": 13,
      "outputs": [
        {
          "output_type": "stream",
          "text": [
            "<class 'numpy.ndarray'>\n",
            "56962 30\n"
          ],
          "name": "stdout"
        }
      ]
    },
    {
      "cell_type": "code",
      "metadata": {
        "colab": {
          "base_uri": "https://localhost:8080/"
        },
        "id": "IwB_IeLZiSgH",
        "outputId": "6ab3710e-084d-44ab-fb13-68268711b156"
      },
      "source": [
        "print(svm_yhat)"
      ],
      "execution_count": null,
      "outputs": [
        {
          "output_type": "stream",
          "text": [
            "[0 0 0 ... 0 0 0]\n"
          ],
          "name": "stdout"
        }
      ]
    },
    {
      "cell_type": "code",
      "metadata": {
        "colab": {
          "base_uri": "https://localhost:8080/"
        },
        "id": "xX3JW9YaMppA",
        "outputId": "348f8ff9-0590-417e-d696-2831a558e33d"
      },
      "source": [
        "from sklearn.metrics import accuracy_score # evaluation metric\r\n",
        "from sklearn.metrics import precision_score, recall_score \r\n",
        "\r\n",
        "print(cl('ACCURACY SCORE', attrs = ['bold']))\r\n",
        "print(cl('------------------------------------------------------------------------', attrs = ['bold']))\r\n",
        "print(cl('Accuracy score of the Decision Tree model is {}'.format(accuracy_score(y_test, tree_yhat)), attrs = ['bold']))\r\n",
        "print(cl('------------------------------------------------------------------------', attrs = ['bold']))\r\n",
        "print(cl('Precision score of the Decision Tree model is {}'.format(precision_score(y_test, tree_yhat)), attrs = ['bold']))\r\n",
        "print(cl('------------------------------------------------------------------------', attrs = ['bold']))\r\n",
        "print(cl('recall score of the Decision Tree model is {}'.format(recall_score(y_test, tree_yhat)), attrs = ['bold']))\r\n",
        "print(cl('------------------------------------------------------------------------', attrs = ['bold']))\r\n",
        "print(cl('------------------------------------------------------------------------', attrs = ['bold']))\r\n",
        "\r\n",
        "\r\n",
        "\r\n",
        "print(cl('Accuracy score of the SVM model is {}'.format(accuracy_score(y_test, svm_yhat)), attrs = ['bold']))\r\n",
        "print(cl('------------------------------------------------------------------------', attrs = ['bold']))\r\n",
        "print(cl('------------------------------------------------------------------------', attrs = ['bold']))\r\n",
        "print(cl('Precision score of the SVM model is {}'.format(precision_score(y_test, svm_yhat)), attrs = ['bold']))\r\n",
        "print(cl('------------------------------------------------------------------------', attrs = ['bold']))\r\n",
        "print(cl('recall score of the SVM model is {}'.format(recall_score(y_test, svm_yhat)), attrs = ['bold']))\r\n",
        "print(cl('------------------------------------------------------------------------', attrs = ['bold']))\r\n",
        "print(cl('------------------------------------------------------------------------', attrs = ['bold']))\r\n",
        "\r\n",
        "\r\n",
        "print(cl('Accuracy score of the Random Forest Tree model is {}'.format(accuracy_score(y_test, rf_yhat)), attrs = ['bold']))\r\n",
        "print(cl('------------------------------------------------------------------------', attrs = ['bold']))\r\n",
        "print(cl('------------------------------------------------------------------------', attrs = ['bold']))\r\n",
        "print(cl('Precision score of Random Forest Tree model is {}'.format(precision_score(y_test, rf_yhat)), attrs = ['bold']))\r\n",
        "print(cl('------------------------------------------------------------------------', attrs = ['bold']))\r\n",
        "print(cl('recall score of Random Forest Tree model is {}'.format(recall_score(y_test, rf_yhat)), attrs = ['bold']))\r\n",
        "print(cl('------------------------------------------------------------------------', attrs = ['bold']))"
      ],
      "execution_count": 14,
      "outputs": [
        {
          "output_type": "stream",
          "text": [
            "\u001b[1mACCURACY SCORE\u001b[0m\n",
            "\u001b[1m------------------------------------------------------------------------\u001b[0m\n",
            "\u001b[1mAccuracy score of the Decision Tree model is 0.9993679997191109\u001b[0m\n",
            "\u001b[1m------------------------------------------------------------------------\u001b[0m\n",
            "\u001b[1mPrecision score of the Decision Tree model is 0.8651685393258427\u001b[0m\n",
            "\u001b[1m------------------------------------------------------------------------\u001b[0m\n",
            "\u001b[1mrecall score of the Decision Tree model is 0.7623762376237624\u001b[0m\n",
            "\u001b[1m------------------------------------------------------------------------\u001b[0m\n",
            "\u001b[1m------------------------------------------------------------------------\u001b[0m\n",
            "\u001b[1mAccuracy score of the SVM model is 0.9982268881008391\u001b[0m\n",
            "\u001b[1m------------------------------------------------------------------------\u001b[0m\n",
            "\u001b[1m------------------------------------------------------------------------\u001b[0m\n",
            "\u001b[1mPrecision score of the SVM model is 0.0\u001b[0m\n",
            "\u001b[1m------------------------------------------------------------------------\u001b[0m\n",
            "\u001b[1mrecall score of the SVM model is 0.0\u001b[0m\n",
            "\u001b[1m------------------------------------------------------------------------\u001b[0m\n",
            "\u001b[1m------------------------------------------------------------------------\u001b[0m\n",
            "\u001b[1mAccuracy score of the Random Forest Tree model is 0.9992802219023208\u001b[0m\n",
            "\u001b[1m------------------------------------------------------------------------\u001b[0m\n",
            "\u001b[1m------------------------------------------------------------------------\u001b[0m\n",
            "\u001b[1mPrecision score of Random Forest Tree model is 0.9054054054054054\u001b[0m\n",
            "\u001b[1m------------------------------------------------------------------------\u001b[0m\n",
            "\u001b[1mrecall score of Random Forest Tree model is 0.6633663366336634\u001b[0m\n",
            "\u001b[1m------------------------------------------------------------------------\u001b[0m\n"
          ],
          "name": "stdout"
        },
        {
          "output_type": "stream",
          "text": [
            "/usr/local/lib/python3.6/dist-packages/sklearn/metrics/_classification.py:1272: UndefinedMetricWarning: Precision is ill-defined and being set to 0.0 due to no predicted samples. Use `zero_division` parameter to control this behavior.\n",
            "  _warn_prf(average, modifier, msg_start, len(result))\n"
          ],
          "name": "stderr"
        }
      ]
    },
    {
      "cell_type": "code",
      "metadata": {
        "colab": {
          "base_uri": "https://localhost:8080/",
          "height": 1000
        },
        "id": "nV36kK6FlZVF",
        "outputId": "ff0874de-9237-4812-9f75-9a1aadaf6349"
      },
      "source": [
        "from sklearn.metrics import confusion_matrix # evaluation metric\r\n",
        "# 3. Confusion Matrix\r\n",
        "\r\n",
        "# defining the plot function\r\n",
        "\r\n",
        "def plot_confusion_matrix(cm, classes, title, normalize = False, cmap = plt.cm.Blues):\r\n",
        "    title = 'Confusion Matrix of {}'.format(title)\r\n",
        "    if normalize:\r\n",
        "        cm = cm.astype(float) / cm.sum(axis=1)[:, np.newaxis]\r\n",
        "\r\n",
        "    plt.imshow(cm, interpolation = 'nearest', cmap = cmap)\r\n",
        "    plt.title(title)\r\n",
        "    plt.colorbar()\r\n",
        "    tick_marks = np.arange(len(classes))\r\n",
        "    plt.xticks(tick_marks, classes, rotation = 45)\r\n",
        "    plt.yticks(tick_marks, classes)\r\n",
        "\r\n",
        "    fmt = '.2f' if normalize else 'd'\r\n",
        "    thresh = cm.max() / 2.\r\n",
        "    for i, j in itertools.product(range(cm.shape[0]), range(cm.shape[1])):\r\n",
        "        plt.text(j, i, format(cm[i, j], fmt),\r\n",
        "                 horizontalalignment = 'center',\r\n",
        "                 color = 'white' if cm[i, j] > thresh else 'black')\r\n",
        "\r\n",
        "    plt.tight_layout()\r\n",
        "    plt.ylabel('True label')\r\n",
        "    plt.xlabel('Predicted label')\r\n",
        "\r\n",
        "# Compute confusion matrix for the models\r\n",
        "\r\n",
        "tree_matrix = confusion_matrix(y_test, tree_yhat, labels = [0, 1]) # Decision Tree\r\n",
        "svm_matrix = confusion_matrix(y_test, svm_yhat, labels = [0, 1]) # Support Vector Machine\r\n",
        "rf_matrix = confusion_matrix(y_test, rf_yhat, labels = [0, 1]) # Random Forest Tree\r\n",
        "\r\n",
        "# Plot the confusion matrix\r\n",
        "\r\n",
        "plt.rcParams['figure.figsize'] = (6, 6)\r\n",
        "\r\n",
        "# 1. Decision tree\r\n",
        "\r\n",
        "tree_cm_plot = plot_confusion_matrix(tree_matrix, \r\n",
        "                                classes = ['Non-Fraud(0)','Fraud(1)'], \r\n",
        "                                normalize = False, title = 'Decision Tree')\r\n",
        "plt.savefig('tree_cm_plot.png')\r\n",
        "plt.show()\r\n",
        "\r\n",
        "# 2. Support Vector Machine\r\n",
        "\r\n",
        "svm_cm_plot = plot_confusion_matrix(svm_matrix, \r\n",
        "                                classes = ['Non-Fraud(0)','Fraud(1)'], \r\n",
        "                                normalize = False, title = 'SVM')\r\n",
        "plt.savefig('svm_cm_plot.png')\r\n",
        "plt.show()\r\n",
        "\r\n",
        "# 3. Random forest tree\r\n",
        "\r\n",
        "rf_cm_plot = plot_confusion_matrix(rf_matrix, \r\n",
        "                                classes = ['Non-Frau(0)','Fraud(1)'], \r\n",
        "                                normalize = False, title = 'Random Forest Tree')\r\n",
        "plt.savefig('rf_cm_plot.png')\r\n",
        "plt.show()\r\n"
      ],
      "execution_count": 15,
      "outputs": [
        {
          "output_type": "display_data",
          "data": {
            "image/png": "[encoded data removed]",
            "text/plain": [
              "<Figure size 432x432 with 2 Axes>"
            ]
          },
          "metadata": {
            "tags": [],
            "needs_background": "light"
          }
        },
        {
          "output_type": "display_data",
          "data": {
            "image/png": "[encoded data removed]",
            "text/plain": [
              "<Figure size 432x432 with 2 Axes>"
            ]
          },
          "metadata": {
            "tags": [],
            "needs_background": "light"
          }
        },
        {
          "output_type": "display_data",
          "data": {
            "image/png": "[encoded data removed]",
            "text/plain": [
              "<Figure size 432x432 with 2 Axes>"
            ]
          },
          "metadata": {
            "tags": [],
            "needs_background": "light"
          }
        }
      ]
    }
  ]
}